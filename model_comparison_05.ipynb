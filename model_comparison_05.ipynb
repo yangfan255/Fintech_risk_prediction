{
 "cells": [
  {
   "cell_type": "code",
   "execution_count": 1,
   "metadata": {},
   "outputs": [
    {
     "name": "stderr",
     "output_type": "stream",
     "text": [
      "UsageError: Line magic function `%matplotlib.inline` not found.\n"
     ]
    }
   ],
   "source": [
    "import numpy as np\n",
    "import pandas as pd\n",
    "import matplotlib.pyplot as plt\n",
    "import warnings\n",
    "warnings.filterwarnings('ignore')\n",
    "\n",
    "% matplotlib.inline\n",
    "plt.style.use('ggplot')"
   ]
  },
  {
   "cell_type": "code",
   "execution_count": 2,
   "metadata": {},
   "outputs": [],
   "source": [
    "df = pd.read_csv(\"/Users/fanyang/Documents/lendingclub/2018_12_21/loan_feature_selected.csv\")"
   ]
  },
  {
   "cell_type": "code",
   "execution_count": 3,
   "metadata": {},
   "outputs": [
    {
     "data": {
      "text/html": [
       "<div>\n",
       "<style scoped>\n",
       "    .dataframe tbody tr th:only-of-type {\n",
       "        vertical-align: middle;\n",
       "    }\n",
       "\n",
       "    .dataframe tbody tr th {\n",
       "        vertical-align: top;\n",
       "    }\n",
       "\n",
       "    .dataframe thead th {\n",
       "        text-align: right;\n",
       "    }\n",
       "</style>\n",
       "<table border=\"1\" class=\"dataframe\">\n",
       "  <thead>\n",
       "    <tr style=\"text-align: right;\">\n",
       "      <th></th>\n",
       "      <th>Unnamed: 0</th>\n",
       "      <th>next_pymnt_binary</th>\n",
       "      <th>loan_amnt</th>\n",
       "      <th>int_rate</th>\n",
       "      <th>installment</th>\n",
       "      <th>annual_inc</th>\n",
       "      <th>dti</th>\n",
       "      <th>delinq_2yrs</th>\n",
       "      <th>inq_last_6mths</th>\n",
       "      <th>mths_since_last_delinq</th>\n",
       "      <th>...</th>\n",
       "      <th>emp_length</th>\n",
       "      <th>home_ownership</th>\n",
       "      <th>verification_status</th>\n",
       "      <th>addr_state</th>\n",
       "      <th>state_mean_int</th>\n",
       "      <th>purpose</th>\n",
       "      <th>initial_list_status</th>\n",
       "      <th>income_level</th>\n",
       "      <th>delinq_binary</th>\n",
       "      <th>late_fee_binary</th>\n",
       "    </tr>\n",
       "  </thead>\n",
       "  <tbody>\n",
       "    <tr>\n",
       "      <th>0</th>\n",
       "      <td>1</td>\n",
       "      <td>0</td>\n",
       "      <td>3000</td>\n",
       "      <td>12.69</td>\n",
       "      <td>67.79</td>\n",
       "      <td>80000.0</td>\n",
       "      <td>17.94</td>\n",
       "      <td>0</td>\n",
       "      <td>0</td>\n",
       "      <td>38</td>\n",
       "      <td>...</td>\n",
       "      <td>1 year</td>\n",
       "      <td>RENT</td>\n",
       "      <td>Verified</td>\n",
       "      <td>OR</td>\n",
       "      <td>lowmmedium</td>\n",
       "      <td>other</td>\n",
       "      <td>f</td>\n",
       "      <td>mediumhigh</td>\n",
       "      <td>no</td>\n",
       "      <td>no</td>\n",
       "    </tr>\n",
       "    <tr>\n",
       "      <th>1</th>\n",
       "      <td>2</td>\n",
       "      <td>0</td>\n",
       "      <td>7000</td>\n",
       "      <td>15.96</td>\n",
       "      <td>170.08</td>\n",
       "      <td>47004.0</td>\n",
       "      <td>23.51</td>\n",
       "      <td>0</td>\n",
       "      <td>1</td>\n",
       "      <td>188</td>\n",
       "      <td>...</td>\n",
       "      <td>8 years</td>\n",
       "      <td>RENT</td>\n",
       "      <td>Not Verified</td>\n",
       "      <td>NC</td>\n",
       "      <td>mediumhigh</td>\n",
       "      <td>debt_consolidation</td>\n",
       "      <td>f</td>\n",
       "      <td>lowmedium</td>\n",
       "      <td>no</td>\n",
       "      <td>no</td>\n",
       "    </tr>\n",
       "    <tr>\n",
       "      <th>2</th>\n",
       "      <td>3</td>\n",
       "      <td>0</td>\n",
       "      <td>10000</td>\n",
       "      <td>15.96</td>\n",
       "      <td>242.97</td>\n",
       "      <td>29120.0</td>\n",
       "      <td>22.83</td>\n",
       "      <td>0</td>\n",
       "      <td>1</td>\n",
       "      <td>68</td>\n",
       "      <td>...</td>\n",
       "      <td>2 years</td>\n",
       "      <td>RENT</td>\n",
       "      <td>Verified</td>\n",
       "      <td>FL</td>\n",
       "      <td>lowmmedium</td>\n",
       "      <td>debt_consolidation</td>\n",
       "      <td>f</td>\n",
       "      <td>low</td>\n",
       "      <td>no</td>\n",
       "      <td>no</td>\n",
       "    </tr>\n",
       "  </tbody>\n",
       "</table>\n",
       "<p>3 rows × 30 columns</p>\n",
       "</div>"
      ],
      "text/plain": [
       "   Unnamed: 0  next_pymnt_binary  loan_amnt  int_rate  installment  \\\n",
       "0           1                  0       3000     12.69        67.79   \n",
       "1           2                  0       7000     15.96       170.08   \n",
       "2           3                  0      10000     15.96       242.97   \n",
       "\n",
       "   annual_inc    dti  delinq_2yrs  inq_last_6mths  mths_since_last_delinq  \\\n",
       "0     80000.0  17.94            0               0                      38   \n",
       "1     47004.0  23.51            0               1                     188   \n",
       "2     29120.0  22.83            0               1                      68   \n",
       "\n",
       "        ...        emp_length  home_ownership  verification_status  \\\n",
       "0       ...            1 year            RENT             Verified   \n",
       "1       ...           8 years            RENT         Not Verified   \n",
       "2       ...           2 years            RENT             Verified   \n",
       "\n",
       "   addr_state  state_mean_int             purpose  initial_list_status  \\\n",
       "0          OR      lowmmedium               other                    f   \n",
       "1          NC      mediumhigh  debt_consolidation                    f   \n",
       "2          FL      lowmmedium  debt_consolidation                    f   \n",
       "\n",
       "   income_level delinq_binary late_fee_binary  \n",
       "0    mediumhigh            no              no  \n",
       "1     lowmedium            no              no  \n",
       "2           low            no              no  \n",
       "\n",
       "[3 rows x 30 columns]"
      ]
     },
     "execution_count": 3,
     "metadata": {},
     "output_type": "execute_result"
    }
   ],
   "source": [
    "df.head(3)"
   ]
  },
  {
   "cell_type": "code",
   "execution_count": 4,
   "metadata": {},
   "outputs": [
    {
     "name": "stdout",
     "output_type": "stream",
     "text": [
      "<class 'pandas.core.frame.DataFrame'>\n",
      "RangeIndex: 601779 entries, 0 to 601778\n",
      "Data columns (total 30 columns):\n",
      "Unnamed: 0                601779 non-null int64\n",
      "next_pymnt_binary         601779 non-null int64\n",
      "loan_amnt                 601779 non-null int64\n",
      "int_rate                  601779 non-null float64\n",
      "installment               601779 non-null float64\n",
      "annual_inc                601779 non-null float64\n",
      "dti                       601779 non-null float64\n",
      "delinq_2yrs               601779 non-null int64\n",
      "inq_last_6mths            601779 non-null int64\n",
      "mths_since_last_delinq    601779 non-null int64\n",
      "open_acc                  601779 non-null int64\n",
      "pub_rec                   601779 non-null int64\n",
      "revol_bal                 601779 non-null float64\n",
      "total_acc                 601779 non-null int64\n",
      "pymnt_pct                 601779 non-null float64\n",
      "tot_cur_bal               601779 non-null float64\n",
      "total_rev_hi_lim          601779 non-null float64\n",
      "cr_his_days               601779 non-null int64\n",
      "term                      601779 non-null object\n",
      "grade                     601779 non-null object\n",
      "emp_length                601779 non-null object\n",
      "home_ownership            601779 non-null object\n",
      "verification_status       601779 non-null object\n",
      "addr_state                601779 non-null object\n",
      "state_mean_int            601779 non-null object\n",
      "purpose                   601779 non-null object\n",
      "initial_list_status       601779 non-null object\n",
      "income_level              601779 non-null object\n",
      "delinq_binary             601779 non-null object\n",
      "late_fee_binary           601779 non-null object\n",
      "dtypes: float64(8), int64(10), object(12)\n",
      "memory usage: 137.7+ MB\n"
     ]
    }
   ],
   "source": [
    "df.info()"
   ]
  },
  {
   "cell_type": "code",
   "execution_count": 5,
   "metadata": {},
   "outputs": [
    {
     "data": {
      "text/plain": [
       "(601779, 30)"
      ]
     },
     "execution_count": 5,
     "metadata": {},
     "output_type": "execute_result"
    }
   ],
   "source": [
    "df.shape"
   ]
  },
  {
   "cell_type": "code",
   "execution_count": 6,
   "metadata": {},
   "outputs": [],
   "source": [
    "df = df.drop(columns='Unnamed: 0', axis=1)"
   ]
  },
  {
   "cell_type": "code",
   "execution_count": 7,
   "metadata": {},
   "outputs": [
    {
     "name": "stdout",
     "output_type": "stream",
     "text": [
      "<class 'pandas.core.frame.DataFrame'>\n",
      "RangeIndex: 601779 entries, 0 to 601778\n",
      "Data columns (total 29 columns):\n",
      "next_pymnt_binary         601779 non-null int64\n",
      "loan_amnt                 601779 non-null int64\n",
      "int_rate                  601779 non-null float64\n",
      "installment               601779 non-null float64\n",
      "annual_inc                601779 non-null float64\n",
      "dti                       601779 non-null float64\n",
      "delinq_2yrs               601779 non-null int64\n",
      "inq_last_6mths            601779 non-null int64\n",
      "mths_since_last_delinq    601779 non-null int64\n",
      "open_acc                  601779 non-null int64\n",
      "pub_rec                   601779 non-null int64\n",
      "revol_bal                 601779 non-null float64\n",
      "total_acc                 601779 non-null int64\n",
      "pymnt_pct                 601779 non-null float64\n",
      "tot_cur_bal               601779 non-null float64\n",
      "total_rev_hi_lim          601779 non-null float64\n",
      "cr_his_days               601779 non-null int64\n",
      "term                      601779 non-null object\n",
      "grade                     601779 non-null object\n",
      "emp_length                601779 non-null object\n",
      "home_ownership            601779 non-null object\n",
      "verification_status       601779 non-null object\n",
      "addr_state                601779 non-null object\n",
      "state_mean_int            601779 non-null object\n",
      "purpose                   601779 non-null object\n",
      "initial_list_status       601779 non-null object\n",
      "income_level              601779 non-null object\n",
      "delinq_binary             601779 non-null object\n",
      "late_fee_binary           601779 non-null object\n",
      "dtypes: float64(8), int64(9), object(12)\n",
      "memory usage: 133.1+ MB\n"
     ]
    }
   ],
   "source": [
    "df.info()"
   ]
  },
  {
   "cell_type": "code",
   "execution_count": 8,
   "metadata": {},
   "outputs": [],
   "source": [
    "numerical_feature = ['next_pymnt_binary',\n",
    "                    'cr_his_days', 'loan_amnt', 'int_rate', 'installment', 'annual_inc',\n",
    "                    'dti', 'inq_last_6mths', 'mths_since_last_delinq', 'open_acc', 'total_acc', \n",
    "                    'pub_rec', 'revol_bal', 'pymnt_pct', 'tot_cur_bal', 'total_rev_hi_lim']"
   ]
  },
  {
   "cell_type": "code",
   "execution_count": 10,
   "metadata": {},
   "outputs": [],
   "source": [
    "df_numerical = df[numerical_feature]"
   ]
  },
  {
   "cell_type": "code",
   "execution_count": 46,
   "metadata": {},
   "outputs": [],
   "source": [
    "categorical_feature = ['term', 'grade', 'emp_length', 'home_ownership',\n",
    "                    'state_mean_int' , 'initial_list_status', 'delinq_binary', \n",
    "                    'late_fee_binary', 'verification_status']"
   ]
  },
  {
   "cell_type": "code",
   "execution_count": 47,
   "metadata": {},
   "outputs": [],
   "source": [
    "df_categorical = pd.get_dummies(df[categorical_feature], columns=categorical_feature)"
   ]
  },
  {
   "cell_type": "code",
   "execution_count": 48,
   "metadata": {},
   "outputs": [],
   "source": [
    "df_selected = df_numerical.join(df_categorical)"
   ]
  },
  {
   "cell_type": "code",
   "execution_count": 49,
   "metadata": {},
   "outputs": [
    {
     "data": {
      "text/plain": [
       "(601779, 52)"
      ]
     },
     "execution_count": 49,
     "metadata": {},
     "output_type": "execute_result"
    }
   ],
   "source": [
    "df_selected.shape"
   ]
  },
  {
   "cell_type": "code",
   "execution_count": 50,
   "metadata": {},
   "outputs": [
    {
     "name": "stdout",
     "output_type": "stream",
     "text": [
      "<class 'pandas.core.frame.DataFrame'>\n",
      "RangeIndex: 601779 entries, 0 to 601778\n",
      "Data columns (total 52 columns):\n",
      "next_pymnt_binary                   601779 non-null int64\n",
      "cr_his_days                         601779 non-null int64\n",
      "loan_amnt                           601779 non-null int64\n",
      "int_rate                            601779 non-null float64\n",
      "installment                         601779 non-null float64\n",
      "annual_inc                          601779 non-null float64\n",
      "dti                                 601779 non-null float64\n",
      "inq_last_6mths                      601779 non-null int64\n",
      "mths_since_last_delinq              601779 non-null int64\n",
      "open_acc                            601779 non-null int64\n",
      "total_acc                           601779 non-null int64\n",
      "pub_rec                             601779 non-null int64\n",
      "revol_bal                           601779 non-null float64\n",
      "pymnt_pct                           601779 non-null float64\n",
      "tot_cur_bal                         601779 non-null float64\n",
      "total_rev_hi_lim                    601779 non-null float64\n",
      "term_ 36 months                     601779 non-null uint8\n",
      "term_ 60 months                     601779 non-null uint8\n",
      "grade_A                             601779 non-null uint8\n",
      "grade_B                             601779 non-null uint8\n",
      "grade_C                             601779 non-null uint8\n",
      "grade_D                             601779 non-null uint8\n",
      "grade_E                             601779 non-null uint8\n",
      "grade_F                             601779 non-null uint8\n",
      "grade_G                             601779 non-null uint8\n",
      "emp_length_1 year                   601779 non-null uint8\n",
      "emp_length_10+ years                601779 non-null uint8\n",
      "emp_length_2 years                  601779 non-null uint8\n",
      "emp_length_3 years                  601779 non-null uint8\n",
      "emp_length_4 years                  601779 non-null uint8\n",
      "emp_length_5 years                  601779 non-null uint8\n",
      "emp_length_6 years                  601779 non-null uint8\n",
      "emp_length_7 years                  601779 non-null uint8\n",
      "emp_length_8 years                  601779 non-null uint8\n",
      "emp_length_9 years                  601779 non-null uint8\n",
      "emp_length_< 1 year                 601779 non-null uint8\n",
      "home_ownership_MORTGAGE             601779 non-null uint8\n",
      "home_ownership_OTHER                601779 non-null uint8\n",
      "home_ownership_OWN                  601779 non-null uint8\n",
      "home_ownership_RENT                 601779 non-null uint8\n",
      "state_mean_int_high                 601779 non-null uint8\n",
      "state_mean_int_low                  601779 non-null uint8\n",
      "state_mean_int_lowmmedium           601779 non-null uint8\n",
      "state_mean_int_mediumhigh           601779 non-null uint8\n",
      "initial_list_status_f               601779 non-null uint8\n",
      "initial_list_status_w               601779 non-null uint8\n",
      "delinq_binary_no                    601779 non-null uint8\n",
      "delinq_binary_yes                   601779 non-null uint8\n",
      "late_fee_binary_no                  601779 non-null uint8\n",
      "late_fee_binary_yes                 601779 non-null uint8\n",
      "verification_status_Not Verified    601779 non-null uint8\n",
      "verification_status_Verified        601779 non-null uint8\n",
      "dtypes: float64(8), int64(8), uint8(36)\n",
      "memory usage: 94.1 MB\n"
     ]
    }
   ],
   "source": [
    "df_selected.info()"
   ]
  },
  {
   "cell_type": "code",
   "execution_count": 51,
   "metadata": {},
   "outputs": [],
   "source": [
    "y = df_selected['next_pymnt_binary']\n",
    "X = df_selected.drop('next_pymnt_binary', axis=1)"
   ]
  },
  {
   "cell_type": "code",
   "execution_count": 52,
   "metadata": {},
   "outputs": [
    {
     "data": {
      "text/plain": [
       "(601779, 51)"
      ]
     },
     "execution_count": 52,
     "metadata": {},
     "output_type": "execute_result"
    }
   ],
   "source": [
    "X.shape"
   ]
  },
  {
   "cell_type": "code",
   "execution_count": 53,
   "metadata": {},
   "outputs": [
    {
     "data": {
      "text/plain": [
       "0    0\n",
       "1    0\n",
       "2    0\n",
       "3    0\n",
       "4    0\n",
       "Name: next_pymnt_binary, dtype: int64"
      ]
     },
     "execution_count": 53,
     "metadata": {},
     "output_type": "execute_result"
    }
   ],
   "source": [
    "y.head()"
   ]
  },
  {
   "cell_type": "code",
   "execution_count": 54,
   "metadata": {},
   "outputs": [],
   "source": [
    "# split data by sklearn\n",
    "from sklearn.model_selection import train_test_split\n",
    "X_train, X_test, y_train, y_test = train_test_split(X, y, test_size = 0.3, random_state=0)"
   ]
  },
  {
   "cell_type": "code",
   "execution_count": 55,
   "metadata": {},
   "outputs": [],
   "source": [
    "def train_test_model(clf, X_train, y_train, X_test, y_test):\n",
    "    # Fit a model by providing X and y from training set\n",
    "    clf.fit(X_train, y_train)\n",
    "\n",
    "    # Make prediction on the training data\n",
    "    y_train_pred = clf.predict(X_train)\n",
    "    p_train_pred = clf.predict_proba(X_train)[:,1]\n",
    "\n",
    "    # Make predictions on test data\n",
    "    y_test_pred = clf.predict(X_test)\n",
    "    p_test_pred = clf.predict_proba(X_test)[:,1]\n",
    "\n",
    "    # print model results\n",
    "    get_performance_metrics(y_train, p_train_pred, y_test, p_test_pred)\n",
    "    plot_roc_curve(y_train, p_train_pred, y_test, p_test_pred)"
   ]
  },
  {
   "cell_type": "code",
   "execution_count": 56,
   "metadata": {},
   "outputs": [],
   "source": [
    "%matplotlib inline\n",
    "import matplotlib.pyplot as plt\n",
    "from sklearn.metrics import roc_curve, auc\n",
    "\n",
    "def plot_roc_curve(y_train, y_train_pred, y_test, y_test_pred):\n",
    "    roc_auc_train = roc_auc_score(y_train, y_train_pred)\n",
    "    fpr_train, tpr_train, _ = roc_curve(y_train, y_train_pred)\n",
    "\n",
    "    roc_auc_test = roc_auc_score(y_test, y_test_pred)\n",
    "    fpr_test, tpr_test, _ = roc_curve(y_test, y_test_pred)\n",
    "    plt.figure()\n",
    "    lw = 2\n",
    "    plt.plot(fpr_train, tpr_train, color='green',\n",
    "             lw=lw, label='ROC Train (AUC = %0.4f)' % roc_auc_train)\n",
    "    plt.plot(fpr_test, tpr_test, color='darkorange',\n",
    "             lw=lw, label='ROC Test (AUC = %0.4f)' % roc_auc_test)\n",
    "    plt.plot([0, 1], [0, 1], color='navy', lw=lw, linestyle='--')\n",
    "    plt.xlim([0.0, 1.0])\n",
    "    plt.ylim([0.0, 1.05])\n",
    "    plt.xlabel('False Positive Rate')\n",
    "    plt.ylabel('True Positive Rate')\n",
    "    plt.title('Receiver operating characteristic example')\n",
    "    plt.legend(loc=\"lower right\")\n",
    "    plt.show()"
   ]
  },
  {
   "cell_type": "code",
   "execution_count": 57,
   "metadata": {},
   "outputs": [],
   "source": [
    "from sklearn.metrics import precision_score, accuracy_score, recall_score, f1_score, roc_auc_score"
   ]
  },
  {
   "cell_type": "code",
   "execution_count": 58,
   "metadata": {},
   "outputs": [],
   "source": [
    "import pandas as pd\n",
    "# Helper method to print metric scores    \n",
    "def get_performance_metrics(y_train, y_train_pred, y_test, y_test_pred, threshold=0.5):\n",
    "    metric_names = ['AUC','Accuracy','Precision','Recall','f1-score']\n",
    "    metric_values_train = [roc_auc_score(y_train, y_train_pred),\n",
    "                    accuracy_score(y_train, y_train_pred>threshold),\n",
    "                    precision_score(y_train, y_train_pred>threshold),\n",
    "                    recall_score(y_train, y_train_pred>threshold),\n",
    "                    f1_score(y_train, y_train_pred>threshold)\n",
    "                   ]\n",
    "    metric_values_test = [roc_auc_score(y_test, y_test_pred),\n",
    "                    accuracy_score(y_test, y_test_pred>threshold),\n",
    "                    precision_score(y_test, y_test_pred>threshold),\n",
    "                    recall_score(y_test, y_test_pred>threshold),\n",
    "                    f1_score(y_test, y_test_pred>threshold)\n",
    "                   ]\n",
    "    all_metrics = pd.DataFrame({'metrics':metric_names,\n",
    "                                'train':metric_values_train,\n",
    "                                'test':metric_values_test},columns=['metrics','train','test']).set_index('metrics')\n",
    "    print(all_metrics)"
   ]
  },
  {
   "cell_type": "markdown",
   "metadata": {},
   "source": [
    "### logistic regression"
   ]
  },
  {
   "cell_type": "code",
   "execution_count": 59,
   "metadata": {},
   "outputs": [
    {
     "name": "stdout",
     "output_type": "stream",
     "text": [
      "              train      test\n",
      "metrics                      \n",
      "AUC        0.585637  0.585419\n",
      "Accuracy   0.847732  0.847574\n",
      "Precision  0.000000  0.250000\n",
      "Recall     0.000000  0.000036\n",
      "f1-score   0.000000  0.000073\n"
     ]
    },
    {
     "data": {
      "image/png": "[encoded data removed]",
      "text/plain": [
       "<Figure size 432x288 with 1 Axes>"
      ]
     },
     "metadata": {
      "needs_background": "light"
     },
     "output_type": "display_data"
    }
   ],
   "source": [
    "# Import logistic regression from sklearn\n",
    "#from sklearn.linear_model import LogisticRegression\n",
    "\n",
    "from sklearn.linear_model import LogisticRegressionCV\n",
    "\n",
    "# Initialize model by providing parameters\n",
    "# http://scikit-learn.org/stable/modules/generated/sklearn.linear_model.LogisticRegression.html\n",
    "clf = LogisticRegressionCV(cv=5, random_state=0)\n",
    "# Fit a model by providing X and y from training set\n",
    "clf.fit(X_train, y_train)\n",
    "\n",
    "# Train test model\n",
    "train_test_model(clf, X_train, y_train, X_test, y_test)"
   ]
  },
  {
   "cell_type": "code",
   "execution_count": null,
   "metadata": {},
   "outputs": [],
   "source": []
  },
  {
   "cell_type": "code",
   "execution_count": null,
   "metadata": {},
   "outputs": [],
   "source": []
  },
  {
   "cell_type": "markdown",
   "metadata": {},
   "source": [
    "### Random Forest"
   ]
  },
  {
   "cell_type": "code",
   "execution_count": 60,
   "metadata": {},
   "outputs": [
    {
     "name": "stdout",
     "output_type": "stream",
     "text": [
      "              train      test\n",
      "metrics                      \n",
      "AUC        0.846512  0.721911\n",
      "Accuracy   0.851006  0.847813\n",
      "Precision  0.917833  0.543340\n",
      "Recall     0.023513  0.009340\n",
      "f1-score   0.045850  0.018364\n"
     ]
    },
    {
     "data": {
      "image/png": "[encoded data removed]",
      "text/plain": [
       "<Figure size 432x288 with 1 Axes>"
      ]
     },
     "metadata": {
      "needs_background": "light"
     },
     "output_type": "display_data"
    }
   ],
   "source": [
    "# http://scikit-learn.org/stable/modules/generated/sklearn.ensemble.RandomForestClassifier.html\n",
    "from sklearn.ensemble import RandomForestClassifier\n",
    "\n",
    "# Choose some parameter combinations to try\n",
    "parameters = {'n_estimators': 100,\n",
    "              'max_features': 'auto',\n",
    "              'criterion': 'gini',\n",
    "              'max_depth': 20,\n",
    "              'min_samples_split': 2,\n",
    "              'min_samples_leaf': 20,\n",
    "              'random_state': 0,\n",
    "              'n_jobs': -1\n",
    "              }\n",
    "\n",
    "clf = RandomForestClassifier(**parameters)\n",
    "\n",
    "# Fit a model by providing X and y from training set\n",
    "clf.fit(X_train, y_train)\n",
    "\n",
    "# Train test model\n",
    "train_test_model(clf, X_train, y_train, X_test, y_test)"
   ]
  },
  {
   "cell_type": "code",
   "execution_count": 61,
   "metadata": {},
   "outputs": [],
   "source": [
    "feature_importances_rf = pd.DataFrame(clf.feature_importances_,\n",
    "                                   index = X_train.columns,\n",
    "                                    columns=['importance']).sort_values('importance', ascending=False)"
   ]
  },
  {
   "cell_type": "code",
   "execution_count": 67,
   "metadata": {},
   "outputs": [
    {
     "data": {
      "text/html": [
       "<div>\n",
       "<style scoped>\n",
       "    .dataframe tbody tr th:only-of-type {\n",
       "        vertical-align: middle;\n",
       "    }\n",
       "\n",
       "    .dataframe tbody tr th {\n",
       "        vertical-align: top;\n",
       "    }\n",
       "\n",
       "    .dataframe thead th {\n",
       "        text-align: right;\n",
       "    }\n",
       "</style>\n",
       "<table border=\"1\" class=\"dataframe\">\n",
       "  <thead>\n",
       "    <tr style=\"text-align: right;\">\n",
       "      <th></th>\n",
       "      <th>importance</th>\n",
       "    </tr>\n",
       "  </thead>\n",
       "  <tbody>\n",
       "    <tr>\n",
       "      <th>pymnt_pct</th>\n",
       "      <td>0.120612</td>\n",
       "    </tr>\n",
       "    <tr>\n",
       "      <th>int_rate</th>\n",
       "      <td>0.119927</td>\n",
       "    </tr>\n",
       "    <tr>\n",
       "      <th>dti</th>\n",
       "      <td>0.057330</td>\n",
       "    </tr>\n",
       "    <tr>\n",
       "      <th>tot_cur_bal</th>\n",
       "      <td>0.055505</td>\n",
       "    </tr>\n",
       "    <tr>\n",
       "      <th>revol_bal</th>\n",
       "      <td>0.048809</td>\n",
       "    </tr>\n",
       "  </tbody>\n",
       "</table>\n",
       "</div>"
      ],
      "text/plain": [
       "             importance\n",
       "pymnt_pct      0.120612\n",
       "int_rate       0.119927\n",
       "dti            0.057330\n",
       "tot_cur_bal    0.055505\n",
       "revol_bal      0.048809"
      ]
     },
     "execution_count": 67,
     "metadata": {},
     "output_type": "execute_result"
    }
   ],
   "source": [
    "feature_importances_rf.head()"
   ]
  },
  {
   "cell_type": "code",
   "execution_count": 66,
   "metadata": {},
   "outputs": [
    {
     "data": {
      "text/html": [
       "<div>\n",
       "<style scoped>\n",
       "    .dataframe tbody tr th:only-of-type {\n",
       "        vertical-align: middle;\n",
       "    }\n",
       "\n",
       "    .dataframe tbody tr th {\n",
       "        vertical-align: top;\n",
       "    }\n",
       "\n",
       "    .dataframe thead th {\n",
       "        text-align: right;\n",
       "    }\n",
       "</style>\n",
       "<table border=\"1\" class=\"dataframe\">\n",
       "  <thead>\n",
       "    <tr style=\"text-align: right;\">\n",
       "      <th></th>\n",
       "      <th>importance</th>\n",
       "    </tr>\n",
       "  </thead>\n",
       "  <tbody>\n",
       "    <tr>\n",
       "      <th>late_fee_binary_yes</th>\n",
       "      <td>0.000989</td>\n",
       "    </tr>\n",
       "    <tr>\n",
       "      <th>emp_length_9 years</th>\n",
       "      <td>0.000779</td>\n",
       "    </tr>\n",
       "    <tr>\n",
       "      <th>emp_length_7 years</th>\n",
       "      <td>0.000767</td>\n",
       "    </tr>\n",
       "    <tr>\n",
       "      <th>emp_length_6 years</th>\n",
       "      <td>0.000706</td>\n",
       "    </tr>\n",
       "    <tr>\n",
       "      <th>home_ownership_OTHER</th>\n",
       "      <td>0.000000</td>\n",
       "    </tr>\n",
       "  </tbody>\n",
       "</table>\n",
       "</div>"
      ],
      "text/plain": [
       "                      importance\n",
       "late_fee_binary_yes     0.000989\n",
       "emp_length_9 years      0.000779\n",
       "emp_length_7 years      0.000767\n",
       "emp_length_6 years      0.000706\n",
       "home_ownership_OTHER    0.000000"
      ]
     },
     "execution_count": 66,
     "metadata": {},
     "output_type": "execute_result"
    }
   ],
   "source": [
    "feature_importances_rf.tail()"
   ]
  },
  {
   "cell_type": "code",
   "execution_count": 79,
   "metadata": {},
   "outputs": [
    {
     "data": {
      "text/plain": [
       "<matplotlib.axes._subplots.AxesSubplot at 0x11bbf3dd8>"
      ]
     },
     "execution_count": 79,
     "metadata": {},
     "output_type": "execute_result"
    },
    {
     "data": {
      "image/png": "[encoded data removed]",
      "text/plain": [
       "<Figure size 1008x360 with 1 Axes>"
      ]
     },
     "metadata": {
      "needs_background": "light"
     },
     "output_type": "display_data"
    }
   ],
   "source": [
    "feature_importances_rf.plot(kind='bar', figsize=(14, 5), title= 'feature importance')"
   ]
  },
  {
   "cell_type": "code",
   "execution_count": null,
   "metadata": {},
   "outputs": [],
   "source": [
    "XGBoost"
   ]
  },
  {
   "cell_type": "code",
   "execution_count": 85,
   "metadata": {},
   "outputs": [],
   "source": [
    "X_train=X_train.rename(columns = {\"emp_length_< 1 year\":\"emp_length_less 1 year\"})\n",
    "y_train=y_train.rename(columns = {\"emp_length_< 1 year\":\"emp_length_less 1 year\"})\n",
    "X_test=X_test.rename(columns = {\"emp_length_< 1 year\":\"emp_length_less 1 year\"})\n",
    "y_test=y_test.rename(columns = {\"emp_length_< 1 year\":\"emp_length_less 1 year\"})"
   ]
  },
  {
   "cell_type": "code",
   "execution_count": 88,
   "metadata": {},
   "outputs": [
    {
     "name": "stderr",
     "output_type": "stream",
     "text": [
      "/usr/local/lib/python3.7/site-packages/sklearn/preprocessing/label.py:151: DeprecationWarning: The truth value of an empty array is ambiguous. Returning False, but in future this will result in an error. Use `array.size > 0` to check that an array is not empty.\n",
      "  if diff:\n",
      "/usr/local/lib/python3.7/site-packages/sklearn/preprocessing/label.py:151: DeprecationWarning: The truth value of an empty array is ambiguous. Returning False, but in future this will result in an error. Use `array.size > 0` to check that an array is not empty.\n",
      "  if diff:\n"
     ]
    },
    {
     "name": "stdout",
     "output_type": "stream",
     "text": [
      "              train      test\n",
      "metrics                      \n",
      "AUC        0.763696  0.725850\n",
      "Accuracy   0.851507  0.847480\n",
      "Precision  0.714054  0.493426\n",
      "Recall     0.041194  0.025912\n",
      "f1-score   0.077894  0.049239\n"
     ]
    },
    {
     "data": {
      "image/png": "[encoded data removed]",
      "text/plain": [
       "<Figure size 432x288 with 1 Axes>"
      ]
     },
     "metadata": {
      "needs_background": "light"
     },
     "output_type": "display_data"
    }
   ],
   "source": [
    "import xgboost as xgb\n",
    "clf = xgb.XGBClassifier(n_estimators=500, max_depth=5, base_score=0.5,\n",
    "                        objective='binary:logistic', random_state=42)\n",
    "clf.fit(X_train, y_train)\n",
    "train_test_model(clf, X_train, y_train, X_test, y_test)"
   ]
  },
  {
   "cell_type": "code",
   "execution_count": null,
   "metadata": {},
   "outputs": [],
   "source": []
  }
 ],
 "metadata": {
  "kernelspec": {
   "display_name": "Python 3",
   "language": "python",
   "name": "python3"
  },
  "language_info": {
   "codemirror_mode": {
    "name": "ipython",
    "version": 3
   },
   "file_extension": ".py",
   "mimetype": "text/x-python",
   "name": "python",
   "nbconvert_exporter": "python",
   "pygments_lexer": "ipython3",
   "version": "3.7.1"
  }
 },
 "nbformat": 4,
 "nbformat_minor": 2
}
